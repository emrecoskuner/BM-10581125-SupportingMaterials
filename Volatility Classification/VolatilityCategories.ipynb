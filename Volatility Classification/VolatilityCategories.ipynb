{
 "cells": [
  {
   "cell_type": "code",
   "execution_count": 1,
   "id": "ee3071c8-1641-4d71-931c-006bd48f9afd",
   "metadata": {},
   "outputs": [],
   "source": [
    "import pandas as pd\n",
    "import numpy as np\n",
    "import matplotlib.pyplot as plt\n",
    "import datetime as dt\n",
    "import seaborn as sns\n",
    "import datetime as dt"
   ]
  },
  {
   "cell_type": "code",
   "execution_count": 3,
   "id": "3076431b-649f-4981-bec8-43a0fa399bb0",
   "metadata": {},
   "outputs": [
    {
     "name": "stdout",
     "output_type": "stream",
     "text": [
      "  Ticker  Mean Monthly Return  Std Monthly Return\n",
      "0    JNJ             0.007999            0.046489\n",
      "1     PG             0.007765            0.053527\n",
      "2   NVDA             0.047042            0.174128\n",
      "3     BA             0.011140            0.095137\n",
      "4   MSFT             0.015775            0.080076\n",
      "5    CAT             0.019280            0.093291\n"
     ]
    },
    {
     "name": "stderr",
     "output_type": "stream",
     "text": [
      "C:\\Users\\emrec\\AppData\\Local\\Temp\\ipykernel_22136\\1326535768.py:20: FutureWarning: 'M' is deprecated and will be removed in a future version, please use 'ME' instead.\n",
      "  df['Monthly Return'] = df['Adj Close'].resample('M').ffill().pct_change()\n",
      "C:\\Users\\emrec\\AppData\\Local\\Temp\\ipykernel_22136\\1326535768.py:20: FutureWarning: 'M' is deprecated and will be removed in a future version, please use 'ME' instead.\n",
      "  df['Monthly Return'] = df['Adj Close'].resample('M').ffill().pct_change()\n",
      "C:\\Users\\emrec\\AppData\\Local\\Temp\\ipykernel_22136\\1326535768.py:20: FutureWarning: 'M' is deprecated and will be removed in a future version, please use 'ME' instead.\n",
      "  df['Monthly Return'] = df['Adj Close'].resample('M').ffill().pct_change()\n",
      "C:\\Users\\emrec\\AppData\\Local\\Temp\\ipykernel_22136\\1326535768.py:20: FutureWarning: 'M' is deprecated and will be removed in a future version, please use 'ME' instead.\n",
      "  df['Monthly Return'] = df['Adj Close'].resample('M').ffill().pct_change()\n",
      "C:\\Users\\emrec\\AppData\\Local\\Temp\\ipykernel_22136\\1326535768.py:20: FutureWarning: 'M' is deprecated and will be removed in a future version, please use 'ME' instead.\n",
      "  df['Monthly Return'] = df['Adj Close'].resample('M').ffill().pct_change()\n",
      "C:\\Users\\emrec\\AppData\\Local\\Temp\\ipykernel_22136\\1326535768.py:20: FutureWarning: 'M' is deprecated and will be removed in a future version, please use 'ME' instead.\n",
      "  df['Monthly Return'] = df['Adj Close'].resample('M').ffill().pct_change()\n"
     ]
    }
   ],
   "source": [
    "import pandas as pd\n",
    "import numpy as np\n",
    "import os\n",
    "\n",
    "data_path = \"C:/Users/emrec/Desktop/djiastocks/\"\n",
    "\n",
    "tickers = ['JNJ', 'PG', 'NVDA', 'BA', 'MSFT', 'CAT']\n",
    "\n",
    "results = []\n",
    "\n",
    "for ticker in tickers:\n",
    "    df = pd.read_csv(f\"{data_path}{ticker}.csv\", skiprows=2, header=0, index_col=0)\n",
    "    df.columns = ['Adj Close', 'Close', 'High', 'Low', 'Open', 'Volume']\n",
    "    df.index = pd.to_datetime(df.index)\n",
    "    \n",
    "    df['Monthly Return'] = df['Adj Close'].resample('M').ffill().pct_change()\n",
    "    mean_return = df['Monthly Return'].mean()\n",
    "    std_return = df['Monthly Return'].std()\n",
    "    results.append([ticker, mean_return, std_return])\n",
    "\n",
    "summary = pd.DataFrame(results, columns=['Ticker', 'Mean Monthly Return', 'Std Monthly Return'])\n",
    "print(summary)"
   ]
  },
  {
   "cell_type": "code",
   "execution_count": null,
   "id": "dc31bea8-d1d7-4a22-a9b3-ff4bcca9a0ba",
   "metadata": {},
   "outputs": [],
   "source": []
  }
 ],
 "metadata": {
  "kernelspec": {
   "display_name": "Python 3 (ipykernel)",
   "language": "python",
   "name": "python3"
  },
  "language_info": {
   "codemirror_mode": {
    "name": "ipython",
    "version": 3
   },
   "file_extension": ".py",
   "mimetype": "text/x-python",
   "name": "python",
   "nbconvert_exporter": "python",
   "pygments_lexer": "ipython3",
   "version": "3.12.4"
  }
 },
 "nbformat": 4,
 "nbformat_minor": 5
}
